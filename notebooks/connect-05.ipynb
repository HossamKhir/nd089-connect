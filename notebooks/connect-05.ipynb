{
 "cells": [
  {
   "cell_type": "markdown",
   "metadata": {},
   "source": [
    "# Session 05\n",
    "\n",
    "## [NumPy](https://numpy.org/doc/)\n",
    "\n",
    "### Basics\n"
   ]
  },
  {
   "cell_type": "code",
   "execution_count": null,
   "metadata": {},
   "outputs": [],
   "source": [
    "# TODO: import numpy w/ the common alias np\n"
   ]
  },
  {
   "cell_type": "code",
   "execution_count": 1,
   "metadata": {},
   "outputs": [],
   "source": [
    "years = [1977, 1980, 1983, 1999, 2005, 2015, 2017, 2019]\n",
    "# months = [5] * 6 + [12] * 2\n",
    "\n",
    "# TODO: create a numpy ndarray from years list\n",
    "\n",
    "# TODO: create a numpy array of 6 entries all of value 5, and type int, call it\n",
    "# months\n",
    "# NOTE: you may use numpy's built-in API or use the vectorised operations\n",
    "\n",
    "# TODO: get the lowest entry in the years array\n",
    "\n",
    "# TODO: insert 2002 in 5th **location** (not index) of the years array\n",
    "\n",
    "# TODO: insert 12 three times at the end of the months array\n",
    "\n",
    "# TODO: create a new ndarray, that has both arrays in\n",
    "#   rows\n",
    "\n",
    "#   columns, and let's keep that one as dates\n",
    "\n",
    "# TODO: print the number of dimensions of the dates matrix, and the dimensions\n",
    "# themselves\n",
    "\n",
    "# TODO: create an ascending array starting at 1 and ending at the number of rows\n",
    "# in the dates matrix, using only numpy, named idx\n",
    "\n",
    "# TODO: add idx to the left of the dates matrix\n",
    "\n",
    "# TODO in the dates matrix\n",
    "#   slice for the 2nd column\n",
    "\n",
    "#   slice for the 3rd row\n",
    "\n",
    "#   slice for values in 5th to 8th row, 2nd to 3rd column\n",
    "\n",
    "# TODO: save the dates array to dates.npy file\n",
    "\n",
    "# TODO: get the transpose of the dates array, and reshape it into 3D\n",
    "\n",
    "# TODO: make a copy of the dates matrix, named dup, and replace values between\n",
    "# 7th row to last row with random floats\n",
    "\n",
    "# TODO: get the main diagonal of dates array\n",
    "\n",
    "# TODO: get the 1st diagonal above the main from dates\n",
    "\n",
    "# TODO: get the 2nd diagonal below the main from dates\n",
    "\n",
    "# TODO: get the unique values from dates\n",
    "\n",
    "# TODO: filter the dates for rows where months are strictly greater than 5\n",
    "\n",
    "# TODO: create an array of random integers of size 8, called randi\n",
    "\n",
    "# TODO: sort randi, out-of-place & in-place\n",
    "\n",
    "# TODO: create another random integers array, called marti\n",
    "\n",
    "# TODO: find intersection, union & difference amongst randi & marti\n",
    "\n",
    "# TODO: combine both randi & marti as columns into rick, and sort on both axes\n"
   ]
  },
  {
   "cell_type": "code",
   "execution_count": null,
   "metadata": {},
   "outputs": [],
   "source": [
    "arr = np.random.random(8)\n",
    "\n",
    "# TODO: find the mean, standard deviation, & median of arr\n"
   ]
  },
  {
   "cell_type": "markdown",
   "metadata": {},
   "source": [
    "## [Broadcasting](https://numpy.org/devdocs/user/basics.broadcasting.html)\n",
    "\n",
    "Simply put, the ability to (automatically) match sizes of arrays\n",
    "\n",
    "---\n",
    "\n",
    "in linear algebra, an operations like $a * \\begin{bmatrix} b_{11} & b_{12} \\\\ b_{21} & b_{22} \\end{bmatrix}$ is completely valid & results in $\\begin{bmatrix} ab_{11} & ab_{12} \\\\ ab_{21} & ab_{22}\\end{bmatrix}$.\n",
    "\n",
    "On the other hand, operation like $a * \\begin{bmatrix} b_{11} & b_{12} \\\\ b_{21} & b_{22} \\end{bmatrix}$ is invalid, because addition requires either 2 scalars, or 2 vectors of identical dimensions, like $\\begin{bmatrix}a_{11} \\\\ a_{21}\\end{bmatrix}+\\begin{bmatrix}b_{11} \\\\ b{21}\\end{bmatrix}\\to\\begin{bmatrix}a_{11}+b_{11}\\\\a{21}+b_{21}\\end{bmatrix}$.\n",
    "\n",
    "Yet if tried the scalar $a$ + matrix $B$ in `numpy` it works. As you might have guessed already, it works because internally `numpy` found a way to match shapes to cover the rule of linear algebra. That's precisely the idea of broadcasting.\n",
    "\n",
    "On checking the documentation, you are provided w/ the simplest rule: start out from the rightmost dimension and work your way to the left. If the dimensions is $1$ or matches, then it is broadcast-able.\n",
    "\n",
    "If the one of the arrays have less dimensions, missing ones on the left can be assumed to be 1 (which is mathematically correct).\n"
   ]
  },
  {
   "cell_type": "code",
   "execution_count": null,
   "metadata": {},
   "outputs": [],
   "source": [
    "# TODO: optional, try to write a function to check for broadcasting using your\n",
    "# own understanding\n",
    "\n",
    "# We will leverage only the ones function just to demonstrate the broadcasting\n",
    "# TODO: without running the cell, comment out what you believe would violate\n",
    "# broadcasting rules\n",
    "a = np.array([1.0, 2.0, 3.0])\n",
    "b = np.array([2.0, 2.0, 2.0])\n",
    "a + b\n",
    "\n",
    "a = np.array([1.0, 2.0, 3.0])\n",
    "b = 2.0\n",
    "a + b\n",
    "\n",
    "a = np.ones((256, 256, 3))\n",
    "b = np.ones((3,))\n",
    "a * b\n",
    "\n",
    "a = np.ones((8, 1, 6, 1))\n",
    "b = np.ones((7, 1, 5))\n",
    "a + b\n",
    "\n",
    "a = np.ones((5, 4))\n",
    "b = 1.0\n",
    "a + b\n",
    "\n",
    "b = np.ones((4))\n",
    "a + b\n",
    "\n",
    "a = np.ones((15, 3, 5))\n",
    "b = np.ones((15, 1, 5))\n",
    "a + b\n",
    "\n",
    "b = np.ones((3, 5))\n",
    "a + b\n",
    "\n",
    "b = np.ones((3, 1))\n",
    "a + b\n",
    "\n",
    "a = np.ones((4))\n",
    "b = np.ones((3))\n",
    "a + b\n",
    "\n",
    "a = np.ones((2, 1))\n",
    "b = np.ones((8, 4, 3))\n",
    "a + b\n",
    "\n",
    "a = np.ones((4, 3))\n",
    "b = np.ones((3))\n",
    "a + b\n",
    "\n",
    "b = np.ones((3, 1))\n",
    "a + b\n",
    "\n",
    "b = np.ones((4))\n",
    "a + b\n",
    "\n",
    "a = np.ones((4, 1))\n",
    "b = np.ones((1, 3))\n",
    "a + b\n",
    "\n",
    "a = np.ones((10, 3))\n",
    "b = np.ones((5, 1, 3))\n",
    "a + b\n"
   ]
  },
  {
   "cell_type": "markdown",
   "metadata": {},
   "source": [
    "For practice & review, we will try to implement `PCA` (Principle Component Analysis) algorithm\n",
    "\n",
    "## PCA\n",
    "\n",
    "> For quick reference, check [this video](https://www.youtube.com/watch?v=dsOyN46exG0), and [this video](https://www.youtube.com/watch?v=xB7-b6FSANA) from [Udacity's YouTube](https://www.youtube.com/c/Udacity) channel\n",
    "\n",
    "![pca_gif](http://www.billconnelly.net/wp-content/uploads/2021/05/PCA1-smaller-smaller.gif)\n",
    "\n",
    "### Steps for PCA\n",
    "\n",
    "1. **Standardise** the feature set\n",
    "2. Calculate **covariance matrix** for _standardised_ set\n",
    "3. Calculate **eigenvectors** & **eigenvalues** for _covariance matrix_\n",
    "4. Sort _eigenvalues_ & _eigenvectors_\n",
    "5. **Pick top $k$** from sorted _eigenvalues_, and form a matrix from corresponding _eigenvectors_\n",
    "6. **Transform** _standardised_ set using the _k-eigenvectors_ matrix\n",
    "\n",
    "> First try each step on its own, then combine them into a subroutine/function\n"
   ]
  },
  {
   "cell_type": "code",
   "execution_count": null,
   "metadata": {},
   "outputs": [],
   "source": [
    "# TODO: we need the os module for path creation\n",
    "\n",
    "# NOTE: define globals/constants\n",
    "DATA_PATH = \"../data/raw/toy\"\n",
    "RAW_DATA_FILE = \"raw.npy\"\n",
    "STD_DATA_FILE = \"standard.npy\"\n",
    "COV_MAT_FILE = \"covariance.npy\"\n",
    "EIG_VECT_FILE = \"e_vect.npy\"\n",
    "EIG_VAL_FILE = \"e_val.npy\"\n"
   ]
  },
  {
   "cell_type": "code",
   "execution_count": null,
   "metadata": {},
   "outputs": [],
   "source": [
    "# TODO: read in the toy data set 'raw.npy' located at DATA_PATH, save it into\n",
    "# variable called raw\n"
   ]
  },
  {
   "cell_type": "markdown",
   "metadata": {},
   "source": [
    "Standardisation is the process of ensuring the data set at hand has a mean of $0$ and a standard deviation of $1$\n",
    "\n",
    "The formula is\n",
    "\n",
    "$$\n",
    "X_{std} = \\frac{X-\\bar{X}}{\\sigma_X}\n",
    "$$\n",
    "\n",
    "> NOTE: this operation is done on feature level (i.e. done on column level, you'd use the axis argument w/ `numpy`)\n"
   ]
  },
  {
   "cell_type": "code",
   "execution_count": null,
   "metadata": {},
   "outputs": [],
   "source": [
    "# TODO: standardise the raw set data, then read & compare w/ standardised data\n",
    "# TODO: find the mean\n",
    "\n",
    "# TODO: find the standard deviation\n",
    "\n",
    "# TODO: apply the formula\n",
    "\n",
    "# TODO: read the standard data set\n",
    "\n",
    "# TODO: compare the values\n",
    "# HINT: use numpy.all\n"
   ]
  },
  {
   "cell_type": "markdown",
   "metadata": {},
   "source": [
    "Now that the standardised set is calculated, time to find the covariance\n",
    "\n",
    "Covariance is a bivariate moment, which measures how closely change in one variable affects the other.\n",
    "\n",
    "- A covariance of $1$ (which is covariance of a variable w/ itself) means highly positively related, \n",
    "- covariance of $0$ is no relation, and \n",
    "- $-1$ is highly negatively related.\n",
    "\n",
    "\n",
    "The formula is\n",
    "\n",
    "$$\n",
    "\\delta_{x,y}=\\frac{1}{n-1}\\Sigma_{i=1}^{n}(x_i - \\bar{x})(y_i - \\bar{y})\n",
    "$$\n",
    "\n",
    "> NOTE: we will not implement this formula, as `numpy` already has a ready-made function for it, use the documentation (or search engine) to find it\n"
   ]
  },
  {
   "cell_type": "code",
   "execution_count": 1,
   "metadata": {},
   "outputs": [],
   "source": [
    "# TODO: search the documentation (or use search engine) to find which numpy\n",
    "# function can be used to find covariance, and use to find covariance of the\n",
    "# standard set\n",
    "\n",
    "# TODO: read in the covariance matrix and compare w/ your output\n"
   ]
  },
  {
   "cell_type": "markdown",
   "metadata": {},
   "source": [
    "Well done, you've found the covariance (function), but we get the idea.\n",
    "\n",
    "Now it is time to find eigenvalues & eigenvectors. There is a lot of math there behind those 2 words, but we don't need to worry just yet about that.\n",
    "\n",
    "Again, use search engine or `numpy` documentation to find which module, and which function give you back the eigenvectors & eigenvalues.\n",
    "\n",
    "> NOTE: the step for sorting is actually implemented inside the `numpy` utility, so the o/p is sorted descendingly w/ respect to eigenvalues.\n"
   ]
  },
  {
   "cell_type": "code",
   "execution_count": 2,
   "metadata": {},
   "outputs": [],
   "source": [
    "# TODO: search the numpy documentation, or use search engine to find how to use\n",
    "# numpy to find eigenvalues & eigenvectors\n",
    "\n",
    "# TODO: read in eigenvalues & eigenvectors and check against your results\n"
   ]
  },
  {
   "cell_type": "markdown",
   "metadata": {},
   "source": [
    "The final steps, select a number of features $k$ ranging $[1,n[$, where n is the number of dimensions (columns) you have\n",
    "\n",
    "Now slice the eigenvectors matrix for the first $k$ columns\n"
   ]
  },
  {
   "cell_type": "code",
   "execution_count": null,
   "metadata": {},
   "outputs": [],
   "source": [
    "# TODO: select k\n",
    "k = None\n",
    "\n",
    "# TODO: slice up your eigenvectors matrix\n"
   ]
  },
  {
   "cell_type": "markdown",
   "metadata": {},
   "source": [
    "Now using matrix multiplication (we'll search for that as well), transform the standardised set\n"
   ]
  },
  {
   "cell_type": "code",
   "execution_count": null,
   "metadata": {},
   "outputs": [],
   "source": [
    "# TODO: search how to do matrix multiplication (dot product) using numpy and\n",
    "# transform the standardised set\n"
   ]
  },
  {
   "cell_type": "markdown",
   "metadata": {},
   "source": [
    "And, we're done.\n",
    "\n",
    "Hope you enjoyed the exercise!\n"
   ]
  },
  {
   "cell_type": "markdown",
   "metadata": {},
   "source": [
    "## Thank you\n",
    "\n",
    "## Good Luck\n",
    "\n",
    "## Have Fun\n"
   ]
  }
 ],
 "metadata": {
  "kernelspec": {
   "display_name": "Python 3.9.10 ('dsenv')",
   "language": "python",
   "name": "python3"
  },
  "language_info": {
   "codemirror_mode": {
    "name": "ipython",
    "version": 3
   },
   "file_extension": ".py",
   "mimetype": "text/x-python",
   "name": "python",
   "nbconvert_exporter": "python",
   "pygments_lexer": "ipython3",
   "version": "3.8.10"
  },
  "orig_nbformat": 4,
  "vscode": {
   "interpreter": {
    "hash": "53c3e8f2eb9682b6c71ce85616632b4da73b82d13cfbbe1554e54cc934f411d0"
   }
  }
 },
 "nbformat": 4,
 "nbformat_minor": 2
}
