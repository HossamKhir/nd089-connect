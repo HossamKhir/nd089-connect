{
 "cells": [
  {
   "cell_type": "markdown",
   "metadata": {},
   "source": [
    "# Session 04\n",
    "\n",
    "## Getting acquainted w/ Jupyter notebooks\n",
    "\n",
    "### Types of cells\n",
    "\n",
    "There are 2 types of cells in jupyter notebook:\n",
    "\n",
    "1. Markdown cells _this one here_\n",
    "2. Code cells (these are executable code chunks, see below)\n"
   ]
  },
  {
   "cell_type": "code",
   "execution_count": null,
   "metadata": {},
   "outputs": [],
   "source": [
    "print(\"This is a code cell!\")\n"
   ]
  },
  {
   "cell_type": "markdown",
   "metadata": {},
   "source": [
    "- Any python code could be run inside _code cells_\n",
    "- If the last statement in a cell has a value, or o/p, it is printed right beneath the said cell\n",
    "\n",
    "> N.B: bear in mind that cells in notebook can be executed out of order, like you can run the next cell before the previous one, but if there are imports or definitions, doing that will throw exceptions, so be mindful of that\n"
   ]
  },
  {
   "cell_type": "code",
   "execution_count": null,
   "metadata": {},
   "outputs": [],
   "source": [
    "x = \"I have a value\"\n",
    "x\n"
   ]
  },
  {
   "cell_type": "code",
   "execution_count": null,
   "metadata": {},
   "outputs": [],
   "source": [
    "def output(arg) -> None:\n",
    "    \"\"\"A dummy function that has o/p\n",
    "\n",
    "    Parameters\n",
    "    ----------\n",
    "    arg: any\n",
    "        any thing that can be converted into string for printing\n",
    "    \"\"\"\n",
    "    print(f\"I just came to say:\\t{arg}\")\n"
   ]
  },
  {
   "cell_type": "code",
   "execution_count": null,
   "metadata": {},
   "outputs": [],
   "source": [
    "# trying to run this cell before the previous one will raise NameError\n",
    "output(x)\n"
   ]
  },
  {
   "cell_type": "markdown",
   "metadata": {},
   "source": [
    "### Modes inside a notebook\n",
    "\n",
    "A notebook supports two `MO` (that's _modus operandi_ or _modes of operation_):\n",
    "\n",
    "- Code edit mode\n",
    "- Command mode\n",
    "\n",
    "#### Command mode\n",
    "\n",
    "Normally on opening/running a new notebook (or an existing one) the default mode is the command mode.\n",
    "\n",
    "In the command mode, the keystrokes actually instruct the jupyter notebook to perform tasks, rather than just take those keys as exact input.\n",
    "\n",
    "For instance, in command mode:\n",
    "\n",
    "- pressing `S` triggers checkpoint saving.\n",
    "- pressing `H` opens the list for keyboard commands.\n",
    "- pressing `M` converts the highlighted cell into markdown cell.\n",
    "- pressing `Y` converts the highlighted cell into code cell.\n",
    "\n",
    "To enter command mode:\n",
    "\n",
    "- Using your cursor, click outside the cell editable parts, or\n",
    "- Press `Esc` button.\n",
    "\n",
    "To enter code mode:\n",
    "\n",
    "- Click (double click if markdown cell) inside the editable area of a cell, or\n",
    "- Press `Enter`/`Return` key, that should allow you to edit the highlighted cell.\n"
   ]
  },
  {
   "cell_type": "code",
   "execution_count": null,
   "metadata": {},
   "outputs": [],
   "source": [
    "# I am a python comment, but I could be a markdown title, experiment w/ me\n",
    "# HINT: in the command mode, both `M` and `Y` can allow to change type of cell\n"
   ]
  },
  {
   "cell_type": "markdown",
   "metadata": {},
   "source": [
    "### Features from jupyter\n",
    "\n",
    "One great feature of jupyter (and IPython) is the ability to relay system commands inside the code areas.\n",
    "\n",
    "For instance, you can inquire about the current working directory as you would in a bash shell: `pwd` (Sorry, I don't know the windows equivalent).\n",
    "\n",
    "What that feature is used more often for:\n",
    "\n",
    "- Installing specific modules for the current notebook,\n",
    "- or downloading and extracting archives/data files using system utils like (`curl`, `wget`, and/or `unzip`)\n",
    "\n",
    "To be able to run systems commands in jupyter notebook, prepend (add to the beginning) the command with a bang/exclamation mark `!`\n"
   ]
  },
  {
   "cell_type": "code",
   "execution_count": null,
   "metadata": {},
   "outputs": [],
   "source": [
    "# TODO: try to print the current working directory, don't forget the `!` and use\n",
    "# `pwd` or whatever other system command you need\n",
    "!pwd\n"
   ]
  },
  {
   "cell_type": "code",
   "execution_count": null,
   "metadata": {},
   "outputs": [],
   "source": [
    "# NOTE: many notebooks might have lines like\n",
    "# !pip install -U seaborn # or whatever module(s) required\n",
    "# or\n",
    "# !wget https://non.existent.url/some/resource -o output_file_name.extension\n",
    "# !unzip output_file_name.extension\n"
   ]
  },
  {
   "cell_type": "markdown",
   "metadata": {},
   "source": [
    "### Magic commands\n",
    "\n",
    "These are specific directives that are meaningful for the notebook. They start with the character `%`.\n",
    "\n",
    "There are 2 types of _magics_, `line` and `cell` magics. The most distinctive difference is that line magics start w/ a single `%`, whereas cell magics start w/ `%%`\n",
    "\n",
    "#### [Line magics](https://ipython.readthedocs.io/en/stable/interactive/magics.html#line-magics)\n",
    "\n",
    "These could be used on their own, sometimes acting like a toggle for a flag. They could accept arguments, or they can receive actual python code to apply something on it.\n",
    "\n"
   ]
  },
  {
   "cell_type": "code",
   "execution_count": null,
   "metadata": {},
   "outputs": [],
   "source": [
    "from time import sleep\n",
    "import numpy as np\n",
    "import matplotlib.pyplot as plt\n",
    "from matplotlib import rcParams\n",
    "\n",
    "np.random.seed(42)\n",
    "plt.style.use(\"ggplot\")\n",
    "rcParams[\"figure.figsize\"] = (16, 9)\n"
   ]
  },
  {
   "cell_type": "code",
   "execution_count": null,
   "metadata": {},
   "outputs": [],
   "source": [
    "# an example of a line magic is timing code executions\n",
    "\n",
    "%timeit sleep(np.random.random())\n",
    "# NOTE: this one receives python code to execute\n"
   ]
  },
  {
   "cell_type": "code",
   "execution_count": null,
   "metadata": {},
   "outputs": [],
   "source": [
    "%pdb\n",
    "\n",
    "# NOTE: this line magic on its own acts as toggle, run this cell odd number of\n",
    "# times to enable the debugger, run it even number of times to disable it\n"
   ]
  },
  {
   "cell_type": "code",
   "execution_count": null,
   "metadata": {},
   "outputs": [],
   "source": [
    "%pdb 0\n",
    "\n",
    "# NOTE: in this form, the line magic received an argument, which allows for a\n",
    "# defined behaviour (here explicitly disable debugger)"
   ]
  },
  {
   "cell_type": "code",
   "execution_count": null,
   "metadata": {},
   "outputs": [],
   "source": [
    "%matplotlib -l\n",
    "\n",
    "# NOTE: that is one of the most commonly used/seen line magics, this one lets\n",
    "# you define which backend to use w/ matplotlib, the default is usually `inline`\n",
    "# but the -l flag lists all available backends on your server\n"
   ]
  },
  {
   "cell_type": "code",
   "execution_count": null,
   "metadata": {},
   "outputs": [],
   "source": [
    "%matplotlib notebook\n",
    "\n",
    "# NOTE: in this form, this line magic allows for configuring the usage of\n",
    "# notebook backend w/ matplotlib\n"
   ]
  },
  {
   "cell_type": "code",
   "execution_count": null,
   "metadata": {},
   "outputs": [],
   "source": [
    "n = 8\n",
    "y = np.random.random(n)\n",
    "x = np.arange(n)\n",
    "\n",
    "plt.plot(x, y)\n",
    "plt.show()\n"
   ]
  },
  {
   "cell_type": "markdown",
   "metadata": {},
   "source": [
    "#### [Cell magics](https://ipython.readthedocs.io/en/stable/interactive/magics.html#cell-magics)\n",
    "\n",
    "These magics work on a cell level, their effect lasts only inside their respective cells\n"
   ]
  },
  {
   "cell_type": "code",
   "execution_count": null,
   "metadata": {},
   "outputs": [],
   "source": [
    "%%timeit\n",
    "\n",
    "# NOTE: this one seems familiar, but as you may have noticed, it started w/ `%%`\n",
    "# so now it is a cell magic, and it times the code inside the entire cell\n",
    "\n",
    "for i in np.random.random(n):\n",
    "    sleep(i)\n"
   ]
  },
  {
   "cell_type": "code",
   "execution_count": null,
   "metadata": {},
   "outputs": [],
   "source": [
    "%%ruby\n",
    "\n",
    "# NOTE: this one is pending deprecation\n",
    "# NOTE: there are several cell magics that allow for execution of code of\n",
    "# different programming languages (ruby, python 2.7, javascript, etc.)\n",
    "# NOTE: this one should instruct the kernel to deal with the code in this cell\n",
    "# as ruby code\n",
    "\n",
    "puts \"Hello, from Ruby\";\n"
   ]
  },
  {
   "cell_type": "markdown",
   "metadata": {},
   "source": [
    "### Conversion of notebooks\n",
    "\n",
    "One of the most useful features is the ability to convert the notebook itself into some other format for distribution, or demonstration.\n",
    "\n",
    "> Remember: a notebook is just a fancy render of a `JSON` file\n"
   ]
  },
  {
   "cell_type": "code",
   "execution_count": null,
   "metadata": {},
   "outputs": [],
   "source": [
    "# NOTE: the most common conversion seen is to `HTML` format, and it follows the\n",
    "# syntax below:\n",
    "# jupyter nbconvert --to <desired-format> notebook_name.ipynb\n",
    "# NOTE: formats range covers html, pdf, latex, etc.\n",
    "\n",
    "!python3 -m jupyter nbconvert --output-dir='../docs/' --to html connect-04.ipynb\n",
    "# NOTE: running this cell converts this entire notebook into html\n"
   ]
  }
 ],
 "metadata": {
  "kernelspec": {
   "display_name": "Python 3.8.10 64-bit",
   "language": "python",
   "name": "python3"
  },
  "language_info": {
   "codemirror_mode": {
    "name": "ipython",
    "version": 3
   },
   "file_extension": ".py",
   "mimetype": "text/x-python",
   "name": "python",
   "nbconvert_exporter": "python",
   "pygments_lexer": "ipython3",
   "version": "3.8.10"
  },
  "orig_nbformat": 4,
  "vscode": {
   "interpreter": {
    "hash": "df0893f56f349688326838aaeea0de204df53a132722cbd565e54b24a8fec5f6"
   }
  }
 },
 "nbformat": 4,
 "nbformat_minor": 2
}
