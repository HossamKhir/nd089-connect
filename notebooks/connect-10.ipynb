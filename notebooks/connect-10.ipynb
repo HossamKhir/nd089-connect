{
 "cells": [
  {
   "cell_type": "markdown",
   "metadata": {},
   "source": [
    "# Session 10\n",
    "\n",
    "## Labs\n"
   ]
  },
  {
   "cell_type": "code",
   "execution_count": 1,
   "metadata": {},
   "outputs": [],
   "source": [
    "import numpy as np\n",
    "import matplotlib.pyplot as plt\n",
    "\n",
    "np.random.seed(42)\n",
    "plt.style.use(\"ggplot\")\n",
    "plt.rcParams[\"figure.figsize\"] = (16, 9)\n"
   ]
  },
  {
   "cell_type": "markdown",
   "metadata": {},
   "source": [
    "if $\\vec{w}=\\begin{bmatrix}-25 // 10\\end{bmatrix}$, then what is $\\frac{1}{5}\\vec{w}$?\n"
   ]
  },
  {
   "cell_type": "code",
   "execution_count": 2,
   "metadata": {},
   "outputs": [],
   "source": [
    "# TODO: create the w vector\n",
    "\n",
    "\n",
    "# TODO: find the w/5 vector\n"
   ]
  },
  {
   "cell_type": "markdown",
   "metadata": {},
   "source": [
    "![bg right:50%](../data/vectors-001.png)\n",
    "\n",
    "$\\vec{v}$ starts at origin and ends at $E$.\n",
    "\n",
    "If $\\frac{1}{5}\\vec{v}$ starts at origin, where it ends?\n"
   ]
  },
  {
   "cell_type": "code",
   "execution_count": null,
   "metadata": {},
   "outputs": [],
   "source": [
    "# TODO: create the v vector\n",
    "v = None\n",
    "\n",
    "# NOTE: drawing v\n",
    "plt.arrow(0, 0, *v, width=0.1)\n",
    "\n",
    "# TODO: select the correct point and\n",
    "ans = None\n",
    "\n",
    "plt.arrow(0, 0, *ans, width=0.1)\n",
    "plt.xlim(-16, 16)\n",
    "plt.ylim(-32, 32)\n",
    "plt.grid(b=True)\n",
    "plt.show()\n"
   ]
  },
  {
   "cell_type": "markdown",
   "metadata": {},
   "source": [
    "if $\\vec{v}=\\begin{bmatrix}-5 \\\\ -4\\end{bmatrix}$, then unit vector in its direction is ____?\n"
   ]
  },
  {
   "cell_type": "code",
   "execution_count": null,
   "metadata": {},
   "outputs": [],
   "source": [
    "# TODO: create v vector\n",
    "\n",
    "\n",
    "# TODO: get the unit vector in v's direction\n",
    "# NOTE: remember the unit vector is the vector divided by its\n",
    "#   magnitude (aka: norm 2)\n"
   ]
  },
  {
   "cell_type": "markdown",
   "metadata": {},
   "source": [
    "$\\vec{v}=\\begin{bmatrix}2 \\\\ 7\\end{bmatrix}$, find unit vector in its direction. $\\begin{bmatrix}\\frac{2}{\\sqrt{53}}\\\\\\frac{7}{\\sqrt{53}}\\end{bmatrix}$\n"
   ]
  },
  {
   "cell_type": "code",
   "execution_count": 13,
   "metadata": {},
   "outputs": [],
   "source": [
    "# TODO: solve the question the same way as above (code) cell\n"
   ]
  },
  {
   "cell_type": "markdown",
   "metadata": {},
   "source": [
    "given $M=\\begin{bmatrix}-3 & 2 & -5 \\\\ 2 & -3 & 4 \\\\ 1 & 1 &1 \\end{bmatrix}$, find the transformed vectors of:\n",
    "1. $\\vec{a}=\\begin{bmatrix}2 \\\\ 3 \\\\ -1\\end{bmatrix}$\n",
    "  1. $\\vec{b}=\\begin{bmatrix}1 \\\\ -2 \\\\ 0\\end{bmatrix}$\n",
    "  1. $\\vec{c}=\\begin{bmatrix}3 \\\\ 1 \\\\ 1\\end{bmatrix}$\n",
    "  1. $\\vec{d}=\\begin{bmatrix}2 \\\\ 4 \\\\ 1\\end{bmatrix}$\n",
    "  1. $\\vec{e}=\\begin{bmatrix}1 \\\\ 3 \\\\ 5\\end{bmatrix}$\n",
    "  1. $\\vec{f}=\\begin{bmatrix}0 \\\\ 0 \\\\ 7\\end{bmatrix}$\n",
    "  1. $\\vec{g}=\\begin{bmatrix}2 \\\\ 5 \\\\ 0\\end{bmatrix}$\n",
    "  1. $\\vec{h}=\\begin{bmatrix}3 \\\\ 0 \\\\ 0\\end{bmatrix}$\n",
    "  1. $\\vec{u}=\\begin{bmatrix}1 \\\\ 2 \\\\ 4\\end{bmatrix}$\n",
    "  1. $\\vec{v}=\\begin{bmatrix}-2 \\\\ 1 \\\\ -2\\end{bmatrix}$\n"
   ]
  },
  {
   "cell_type": "code",
   "execution_count": null,
   "metadata": {},
   "outputs": [],
   "source": [
    "# HINT: write the vectors as a matrix where each row is a vector, then use a\n",
    "#   a loop for the solution\n"
   ]
  }
 ],
 "metadata": {
  "kernelspec": {
   "display_name": "Python 3.8.10 ('dsenv')",
   "language": "python",
   "name": "python3"
  },
  "language_info": {
   "codemirror_mode": {
    "name": "ipython",
    "version": 3
   },
   "file_extension": ".py",
   "mimetype": "text/x-python",
   "name": "python",
   "nbconvert_exporter": "python",
   "pygments_lexer": "ipython3",
   "version": "3.8.10"
  },
  "orig_nbformat": 4,
  "vscode": {
   "interpreter": {
    "hash": "eae71b2c053f62fccba4476524b45392e885e2d15a93fe6df3acae47c8fc97b4"
   }
  }
 },
 "nbformat": 4,
 "nbformat_minor": 2
}
