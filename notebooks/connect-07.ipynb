{
 "cells": [
  {
   "cell_type": "markdown",
   "metadata": {},
   "source": [
    "# Session 7\n",
    "\n",
    "## [Matplotlib](https://matplotlib.org)\n",
    "\n",
    "- [Matplotlib](#matplotlib)\n",
    "  - [the gapminder dataset](#the-gapminder-dataset)\n",
    "  - [Scatter plots](#scatter-plots)\n",
    "    - [Log scales](#log-scales)\n",
    "    - [Extra aesthetics](#extra-aesthetics)\n",
    "      - [Colour](#colour)\n",
    "      - [Size](#size)\n",
    "    - [Faceting](#faceting)\n",
    "  - [Line plots](#line-plots)\n",
    "  - [Bar plots](#bar-plots)\n",
    "  - [Histograms](#histograms)\n",
    "  - [Box plots](#box-plots)\n",
    "- [Seaborn](#seaborn)\n",
    "\n",
    "### The [gapminder](https://gapminder.org) dataset\n",
    "\n",
    "The gapminder foundation, as featured on the official website:\n",
    "\n",
    "> Gapminder is an independent educational non-profit fighting global misconceptions.\n",
    "\n",
    "The dataset contains combines data from multiple sources into unique coherent\n",
    "time-series. Containing information about humans in all spots on Earth.\n",
    "\n",
    "We are working on a excerpt of this large dataset, focusing on `country`,\n",
    "`continent`, `year`, life expectancy `lifeExp`, population `pop`, the economic\n",
    "output of a nation per person `gdpPercap`.\n"
   ]
  },
  {
   "cell_type": "code",
   "execution_count": 23,
   "metadata": {},
   "outputs": [
    {
     "name": "stdout",
     "output_type": "stream",
     "text": [
      "<class 'pandas.core.frame.DataFrame'>\n",
      "RangeIndex: 3312 entries, 0 to 3311\n",
      "Data columns (total 6 columns):\n",
      " #   Column     Non-Null Count  Dtype         \n",
      "---  ------     --------------  -----         \n",
      " 0   country    3312 non-null   object        \n",
      " 1   continent  3011 non-null   object        \n",
      " 2   year       3312 non-null   datetime64[ns]\n",
      " 3   lifeExp    3312 non-null   float64       \n",
      " 4   pop        3312 non-null   int64         \n",
      " 5   gdpPercap  3312 non-null   float64       \n",
      "dtypes: datetime64[ns](1), float64(2), int64(1), object(2)\n",
      "memory usage: 155.4+ KB\n"
     ]
    }
   ],
   "source": [
    "import pandas as pd\n",
    "\n",
    "gapminder_path = \"../data/raw/gapminder.tsv\"\n",
    "\n",
    "gapminder = pd.read_csv(gapminder_path, sep=\"\\t\", parse_dates=[\"year\"])\n",
    "gapminder.info()\n"
   ]
  },
  {
   "cell_type": "code",
   "execution_count": null,
   "metadata": {},
   "outputs": [],
   "source": [
    "# TODO: import matplotlib's pyplot w/ the alias plt\n"
   ]
  },
  {
   "cell_type": "markdown",
   "metadata": {},
   "source": [
    "### [Scatter plots](#session-7)\n",
    "\n",
    "In certain situations, it helps to visualise the relation between 2 variables\n",
    "as data points (another name for observations/rows). Such visualisation is\n",
    "called **scatter plot**, and it is one of the most common during _EDA_\n",
    "`Exploratory Data Analysis`.\n",
    "\n",
    "```py\n",
    "# to build a scatter plot through matplotlib\n",
    "x = gapminder.loc[:, \"gdpPercap\"]\n",
    "y = gapminder.loc[:, \"lifeExp\"]\n",
    "\n",
    "_ = plt.scatter(x, y) # this call returns a PathCollection object\n",
    "plt.show()\n",
    "```\n"
   ]
  },
  {
   "cell_type": "code",
   "execution_count": null,
   "metadata": {},
   "outputs": [],
   "source": [
    "# TODO: create a small dataframe that holds only the data for the year 1952\n",
    "\n",
    "# TODO: create a scatter plot of population on x and gdpPercap on y using the\n",
    "#   filtered dataframe\n",
    "\n",
    "# TODO: create another scatter plot of life expectancy versus population\n"
   ]
  },
  {
   "cell_type": "markdown",
   "metadata": {},
   "source": [
    "#### [Log scales](#session-7)\n",
    "\n",
    "As you might have noticed, the data is not spread nicely, seems a bit clattered\n",
    "at one end.\n",
    "\n",
    "Sometimes, data scales might not be linear, in such cases, a different scale\n",
    "might provide better insights.\n",
    "\n",
    "```py\n",
    "# To alter the scale of an axis in matplotlib\n",
    "_ = plt.scatter(x, y)\n",
    "plt.xscale(\"log\") \n",
    "# default is linear, also available `symlog`, `logit` and objects of `ScaleBase`\n",
    "plt.yscale(\"log\")\n",
    "plt.show()\n",
    "```"
   ]
  },
  {
   "cell_type": "code",
   "execution_count": null,
   "metadata": {},
   "outputs": [],
   "source": [
    "# TODO: using the filtered set, create a scatter of lifeExp vs pop\n",
    "\n",
    "# TODO: before showing the plot, set the scale of x-axis to log\n",
    "\n",
    "# TODO: create scatter of gdpPercap vs pop\n",
    "\n",
    "# TODO: scale both x, & y axes to be log\n"
   ]
  },
  {
   "cell_type": "markdown",
   "metadata": {},
   "source": [
    "#### [Extra aesthetics](#session-7)\n",
    "\n",
    "It could be helpful to visualise more than just 2 variables in the same plot,\n",
    "but that could prove challenging with 2D plots. Two new aesthetics come into\n",
    "play: _colour_ and _size_\n",
    "\n",
    "##### [Colour](#session-7)\n",
    "\n",
    "This works best with category variables, where each colour is a certain value\n",
    "of a categorical variable\n",
    "\n",
    "```py\n",
    "# it takes a bit of work to use colours w/ matplotlib\n",
    "continents = gapminder.loc[:, \"continent\"]\n",
    "colours = {continent:i for i, continent in enumerate(continents.unique())}\n",
    "\n",
    "_ = plt.scatter(x, y, c=continents.map(colours))\n",
    "plt.xscale(\"log\")\n",
    "plt.yscale(\"log\")\n",
    "plt.show()\n",
    "```\n"
   ]
  },
  {
   "cell_type": "code",
   "execution_count": null,
   "metadata": {},
   "outputs": [],
   "source": [
    "# TODO: extract the continent series from the filtered dataframe\n",
    "\n",
    "# TODO: build a dictionary of colours based of unique values in continent series\n",
    "\n",
    "# TODO: create a scatter plot of lifeExp vs pop, and use the continent as\n",
    "#   extra aesthetic\n",
    "\n",
    "# TODO: don't forget the scaling\n"
   ]
  },
  {
   "cell_type": "markdown",
   "metadata": {},
   "source": [
    "##### [Size](#session-7)\n",
    "\n",
    "This one works best with numerical variables, preferably continuous, where the\n",
    "size of a data point is determined by a value of another variable.\n",
    "\n",
    "```py\n",
    "# simply extract the new column, you may choose to normalise the data [0,1]\n",
    "gdpPercap = gapminder.loc[:, \"gdpPercap\"]\n",
    "\n",
    "_ = plt.scatter(x, y, c=continents.map(colours), s=gdpPercap)\n",
    "plt.xscale(\"log\")\n",
    "plt.yscale(\"log\")\n",
    "plt.show()\n",
    "```\n",
    "\n",
    "> N.B: at this point, the graph might not be very appealing, some points could\n",
    "> completely cover other points, hence we use a different aesthetic `alpha`\n"
   ]
  },
  {
   "cell_type": "code",
   "execution_count": null,
   "metadata": {},
   "outputs": [],
   "source": [
    "# TODO: extract the gdpPercap series from the filtered dataframe\n",
    "\n",
    "# TODO: create a scatter plot of lifeExp vs pop, use continent & gdpPercap as\n",
    "#   extra aesthetics\n",
    "# EXTRA: avoid having hidden data points w/ a new aesthetic\n",
    "\n",
    "# TODO: remember remember the scaling\n"
   ]
  },
  {
   "cell_type": "markdown",
   "metadata": {},
   "source": [
    "### [Faceting](#session-7)\n",
    "\n",
    "The faceting allows for other way of visualising multiple variables, but this\n",
    "one gives multiple axes rather than a single one.\n",
    "\n",
    "> N.B: faceting with matplotlib is difficult, we should focus on how to achieve it by seaborn instead\n",
    "\n",
    "To facet in matplotlib (again, you may safely ignore that):\n",
    "\n",
    "```py\n",
    "# first, we extract the faceting variable\n",
    "continents_series = gapminder.loc[:, \"continent\"]\n",
    "# we need only the unique values, excluding nulls\n",
    "continents = continents_series.dropna().unique()\n",
    "\n",
    "# defining the grid (rows, columns number) for faceting\n",
    "n = len(continents) # no. of all available variables\n",
    "m = int(np.ceil(n ** 0.5)) # no. of columns\n",
    "n = int(np.ceil(n / m)) # no. of rows\n",
    "\n",
    "# creating axes for faceting\n",
    "_, axes = plt.subplots(n, m, sharex=False, sharey=False)\n",
    "# NOTE: axes is a numpy array\n",
    "\n",
    "# filling the facet's axes one by one\n",
    "for i, continent in enumerate(continents):\n",
    "    # select the axis to address\n",
    "    ax = axes[i // m, i % m]\n",
    "    # define the index corresponding to the current continent\n",
    "    idx = continents_series == continent\n",
    "    # define the scatter plot coordinates\n",
    "    x = gapminder.loc[idx, \"gdpPercap\"]\n",
    "    y = gapminder.loc[idx, \"lifeExp\"]\n",
    "    \n",
    "    # calling the scatter API\n",
    "    ax.scatter(x, y)\n",
    "    # setting the title, to be able to read the facet grid\n",
    "    ax.title.set_text(continent)\n",
    "\n",
    "# scaling the variables for better view\n",
    "plt.xscale(\"log\")\n",
    "plt.yscale(\"log\")\n",
    "# showing the facet grid\n",
    "plt.show()\n",
    "```\n",
    "\n",
    "simply run the next cell as is"
   ]
  },
  {
   "cell_type": "code",
   "execution_count": null,
   "metadata": {},
   "outputs": [],
   "source": [
    "import numpy as np\n",
    "\n",
    "gap_07 = gapminder.loc[gapminder[\"year\"] == \"2007\"]\n",
    "continents_series = gap_07.loc[gap_07, \"continent\"]\n",
    "continents = continents_series.dropna().unique()\n",
    "\n",
    "n = len(continents)\n",
    "m = int(np.ceil(n ** 0.5))\n",
    "n = int(np.ceil(n / m))\n",
    "\n",
    "# creating axes for faceting\n",
    "_, axes = plt.subplots(n, m, sharex=False, sharey=False)\n",
    "# NOTE: axes is a numpy array\n",
    "\n",
    "# filling the facet's axes one by one\n",
    "for i, continent in enumerate(continents):\n",
    "    # select the axis to address\n",
    "    ax = axes[i // m, i % m]\n",
    "    # define the index corresponding to the current continent\n",
    "    idx = continents_series == continent\n",
    "    # define the scatter plot coordinates\n",
    "    x = gap_07.loc[idx, \"gdpPercap\"]\n",
    "    y = gap_07.loc[idx, \"lifeExp\"]\n",
    "\n",
    "    # calling the scatter API\n",
    "    ax.scatter(x, y)\n",
    "    # setting the title, to be able to read the facet grid\n",
    "    ax.title.set_text(continent)\n",
    "\n",
    "# scaling the variables for better view\n",
    "plt.xscale(\"log\")\n",
    "plt.yscale(\"log\")\n",
    "# showing the facet grid\n",
    "plt.show()\n"
   ]
  },
  {
   "cell_type": "markdown",
   "metadata": {},
   "source": [
    "### [Line plots](#session-7)\n",
    "\n",
    "Those kind of plots are the most commonly used. You try to visualise how one\n",
    "variable affects the other. One of the most commonly used is the time-series,\n",
    "where the x-axis is the time-index, and the y-axis is the only variable.\n",
    "\n",
    "This kind of plot highlights the regression relation that may be latent in your\n",
    "dataset.\n",
    "\n",
    "```py\n",
    "# to draw line plots\n",
    "avg_lifeExp = (\n",
    "    gapminder.loc[:, [\"year\", \"lifeExp\", \"continent\"]]\n",
    "    .groupby([\"year\", \"continent\"])\n",
    "    .agg({\"lifeExp\": \"mean\"})\n",
    "    .reset_index()\n",
    ")\n",
    "x = avg_lifeExp.loc[:, \"year\"]\n",
    "y = avg_lifeExp.loc[:, \"lifeExp\"]\n",
    "continents = avg_lifeExp.loc[:, \"continent\"]\n",
    "colours = {continent: i for i, continent in enumerate(continents.unique())}\n",
    "\n",
    "# for the moment, let's select a single continent\n",
    "continent = np.random.choice(list(colours.keys()))\n",
    "idx = continents == continent\n",
    "\n",
    "plt.plot(x.loc[idx], y.loc[idx], label=continent) # for legend\n",
    "plt.xlabel(\"year\")\n",
    "plt.ylabel(\"lifeExp\")\n",
    "# forcing the y-axis to start at 0\n",
    "_, y_top = plt.ylim()\n",
    "plt.ylim(0, y_top)\n",
    "plt.legend()\n",
    "plt.show()\n",
    "```\n"
   ]
  },
  {
   "cell_type": "code",
   "execution_count": 113,
   "metadata": {},
   "outputs": [],
   "source": [
    "# TODO: find the median gdpPercap against years\n",
    "# EXTRA: try to include the continent too in the filtering\n",
    "\n",
    "# TODO: develop your axes parameters x, & y (optionally c for colour)\n",
    "\n",
    "# TODO: select a continent (optional use a for loop for all continents)\n",
    "\n",
    "# TODO: make a line plot, and make sure to set the label for legend\n",
    "\n",
    "# TODO: set the labels for the axes\n",
    "\n",
    "# TODO: have the y-axis label rest at 0\n",
    "\n",
    "# TODO: show the plot, and don't forget the legend call\n"
   ]
  },
  {
   "cell_type": "markdown",
   "metadata": {},
   "source": [
    "### [Bar plots](#session-7)\n",
    "\n",
    "Bar charts provide a visualisation for the frequency distribution of a\n",
    "categorical variable.\n",
    "\n",
    "```py\n",
    "# to plot a bar chart in matplotlib\n",
    "mean_lifeExp = gapminder.groupby(\"continent\").agg({\"lifeExp\": \"mean\"}).reset_index()\n",
    "x = mean_lifeExp.loc[:, \"continent\"]\n",
    "height = mean_lifeExp.loc[:, \"lifeExp\"]\n",
    "\n",
    "plt.bar(x, height)\n",
    "plt.show()\n",
    "```\n",
    "\n",
    "> By default, a bar plot is a vertical bar plot, to have the plot shown as a\n",
    "horizontal bar plot, use `plt.barh` instead.\n"
   ]
  },
  {
   "cell_type": "code",
   "execution_count": 118,
   "metadata": {},
   "outputs": [],
   "source": [
    "# TODO: find the median gdpPercap against (grouped by) continent\n",
    "\n",
    "# TODO: extract the categorical variable to x, and the level as height\n",
    "\n",
    "# TODO: plot the bar chart, then show the plot\n"
   ]
  },
  {
   "cell_type": "markdown",
   "metadata": {},
   "source": [
    "### [Histograms](#session-7)\n",
    "\n",
    "That type of plots you might have encountered yourself a lot, and it is, in\n",
    "layman terms, the quantitative version of the bar plot. It allows us to see the\n",
    "distribution of a numerical variable.\n",
    "\n",
    "```py\n",
    "# to plot histograms in matplotlib\n",
    "x = gapminder.loc[:, \"lifeExp\"]\n",
    "\n",
    "hist, bins, _ = plt.hist(x, bins=32)\n",
    "plt.show()\n",
    "```\n",
    "\n",
    "> N.B: `bins` argument could also be a list or a collection\n",
    "\n",
    "> N.B: sometimes, using log scale helps identify trend in histograms as well.\n",
    "\n",
    "```py\n",
    "\n",
    "bins = np.logspace(np.log10(bins[0]), np.log10(bins[-1]), len(bins))\n",
    "\n",
    "plt.hist(x, bins=bins)\n",
    "plt.xscale(\"log\")\n",
    "plt.show()\n",
    "\n",
    "```"
   ]
  },
  {
   "cell_type": "code",
   "execution_count": 142,
   "metadata": {},
   "outputs": [],
   "source": [
    "# TODO: extract population as a variable to histogram\n",
    "\n",
    "# TODO: select the proper number of bins, and plot the histogram\n"
   ]
  },
  {
   "cell_type": "markdown",
   "metadata": {},
   "source": [
    "### [Box plots](#session-7)\n",
    "\n",
    "Most visualisations seen so far deal with a single type of data (discrete,\n",
    "continuous) or two of them (continuous, continuous). If we need to visualise a\n",
    "different relation (continuous, discrete), then we need things like `box`,\n",
    "`violin`, or `swarm` plots\n",
    "\n",
    "```py\n",
    "# to plot a box plot in matplotlib\n",
    "# extract the categorical variable's unique levels\n",
    "continents = gapminder.loc[:, \"continent\"].unique()\n",
    "\n",
    "# collect the numerical variable as non-overlapping sets\n",
    "boxes = []\n",
    "for continent in continents:\n",
    "    idx = gapminder.loc[:, \"continent\"] == continent\n",
    "    boxes.append(gapminder.loc[idx, \"lifeExp\"])\n",
    "\n",
    "# draw the box plot\n",
    "plt.boxplot(boxes)\n",
    "# set the names on for the each box plot\n",
    "plt.xticks(np.arange(1, len(continents) + 1), labels=continents)\n",
    "plt.show()\n",
    "```\n"
   ]
  },
  {
   "cell_type": "code",
   "execution_count": null,
   "metadata": {},
   "outputs": [],
   "source": [
    "# TODO: prepare the data to visualise a box plot of gdpPercap against continent\n",
    "\n",
    "# TODO: draw the box plot\n",
    "\n",
    "# TODO: set the ticks on x-axis\n"
   ]
  },
  {
   "cell_type": "markdown",
   "metadata": {},
   "source": [
    "## [Seaborn](https://seaborn.pydata.org/)\n",
    "\n",
    "Seaborn is a Python data visualization library based on matplotlib. It provides\n",
    "a high-level interface for drawing attractive and informative statistical\n",
    "graphics.\n",
    "\n",
    "> maybe it is just me, but so far, I have not found a tutorial or a notebook that uses seaborn only! always alongside matplotlib.\n",
    "\n",
    "Let's repeat the previous plots in seaborn!\n"
   ]
  }
 ],
 "metadata": {
  "kernelspec": {
   "display_name": "Python 3.8.10 ('dsenv')",
   "language": "python",
   "name": "python3"
  },
  "language_info": {
   "codemirror_mode": {
    "name": "ipython",
    "version": 3
   },
   "file_extension": ".py",
   "mimetype": "text/x-python",
   "name": "python",
   "nbconvert_exporter": "python",
   "pygments_lexer": "ipython3",
   "version": "3.8.10"
  },
  "orig_nbformat": 4,
  "vscode": {
   "interpreter": {
    "hash": "eae71b2c053f62fccba4476524b45392e885e2d15a93fe6df3acae47c8fc97b4"
   }
  }
 },
 "nbformat": 4,
 "nbformat_minor": 2
}
